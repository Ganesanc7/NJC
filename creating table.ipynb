{
 "cells": [
  {
   "cell_type": "code",
   "execution_count": 2,
   "id": "5d7a1051",
   "metadata": {},
   "outputs": [],
   "source": [
    "import mysql.connector\n",
    "mydb=mysql.connector.connect(\n",
    "    host=\"localhost\",\n",
    "    user=\"root\",\n",
    "    password=\"root\",\n",
    "    database=\"njc\"\n",
    ")"
   ]
  },
  {
   "cell_type": "code",
   "execution_count": 3,
   "id": "acc599f2",
   "metadata": {},
   "outputs": [],
   "source": [
    "mycursor=mydb.cursor()"
   ]
  },
  {
   "cell_type": "markdown",
   "id": "ef52e5d7",
   "metadata": {},
   "source": [
    "# Creating movie table "
   ]
  },
  {
   "cell_type": "code",
   "execution_count": null,
   "id": "b60971c9",
   "metadata": {},
   "outputs": [],
   "source": [
    "mycursor.execute(\"CREATE TABLE movie(name varchar(255), actor varchar(255), actress varchar(255), director varchar(255), year int(10))\")"
   ]
  },
  {
   "cell_type": "markdown",
   "id": "1100d63c",
   "metadata": {},
   "source": [
    "# Inserting rows values in the table"
   ]
  },
  {
   "cell_type": "code",
   "execution_count": 5,
   "id": "d4cfc757",
   "metadata": {},
   "outputs": [],
   "source": [
    "sql=\"INSERT INTO movie(name, actor, actress, director, year) values(%s,%s,%s,%s,%s)\"\n",
    "val=[\n",
    "    (\"Agent Sai Srinivasa Athreya\",\"Naveen Polishetty\",\"Shruti Sharma\",\"Swaroop RSJ\",2019),\n",
    "    (\"kaththi\",\"Vijay\",\"Samantha\",\"A.R.Murugadoss\",2014),\n",
    "    (\"Thuppaki\",\"Vijay\",\"Kajal Agarwal\",\"A.R.Murugadoss\",2012),\n",
    "    (\"Thittam Irandu\",\"Subash Selvam\",\"Aishwarya Rajesh\",\"Karthick Vignesh\",2021),\n",
    "    (\"Soorarai Potru\",\"Suriya\",\"Aparna balamurali\",\"Sudha Kongara\",2020),\n",
    "    (\"A Quiet Place\",\"John Krasinski\",\"Emily Blunt\",\"John Krasinski\",2018),\n",
    "    (\"Awe\",\"Prashanth Varma\",\"Kajal\",\"Srinivas Avasarala\",2018),\n",
    "    (\"Asuran\",\"Dhanush\",\"Manju Warrier\",\"Vetrimaaran\",2019),\n",
    "    (\"Petta\",\"Rajinikanth\",\"Simran\",\"Karthik Subbaraj\",2019),\n",
    "    (\"Vikram Vedha\",\"Madhavan\",\"Shraddha Srinath\",\"Pushkar–Gayathri\",2017),\n",
    "    (\"Kuttram 23\",\"Arun Vijay\",\" Mahima Nambiar\",\"Arivazhagan\",2017)]\n",
    "mycursor.executemany(sql, val)"
   ]
  },
  {
   "cell_type": "markdown",
   "id": "912b696e",
   "metadata": {},
   "source": [
    "# Retrieving all rows in the table"
   ]
  },
  {
   "cell_type": "code",
   "execution_count": 7,
   "id": "18689dba",
   "metadata": {},
   "outputs": [
    {
     "name": "stdout",
     "output_type": "stream",
     "text": [
      "('Agent Sai Srinivasa Athreya', 'Naveen Polishetty', 'Shruti Sharma', 'Swaroop RSJ', 2019)\n",
      "\n",
      "\n",
      "('kaththi', 'Vijay', 'Samantha', 'A.R.Murugadoss', 2014)\n",
      "\n",
      "\n",
      "('Thuppaki', 'Vijay', 'Kajal Agarwal', 'A.R.Murugadoss', 2012)\n",
      "\n",
      "\n",
      "('Thittam Irandu', 'Subash Selvam', 'Aishwarya Rajesh', 'Karthick Vignesh', 2021)\n",
      "\n",
      "\n",
      "('Soorarai Potru', 'Suriya', 'Aparna balamurali', 'Sudha Kongara', 2020)\n",
      "\n",
      "\n",
      "('A Quiet Place', 'John Krasinski', 'Emily Blunt', 'John Krasinski', 2018)\n",
      "\n",
      "\n",
      "('Awe', 'Prashanth Varma', 'Kajal', 'Srinivas Avasarala', 2018)\n",
      "\n",
      "\n",
      "('Asuran', 'Dhanush', 'Manju Warrier', 'Vetrimaaran', 2019)\n",
      "\n",
      "\n",
      "('Petta', 'Rajinikanth', 'Simran', 'Karthik Subbaraj', 2019)\n",
      "\n",
      "\n",
      "('Vikram Vedha', 'Madhavan', 'Shraddha Srinath', 'Pushkar–Gayathri', 2017)\n",
      "\n",
      "\n",
      "('Kuttram 23', 'Arun Vijay', ' Mahima Nambiar', 'Arivazhagan', 2017)\n",
      "\n",
      "\n"
     ]
    }
   ],
   "source": [
    "mycursor.execute(\"SELECT * FROM movie\")\n",
    "result=mycursor.fetchall()\n",
    "for i in result:\n",
    "    print(i)\n",
    "    print(\"\\n\")"
   ]
  },
  {
   "cell_type": "markdown",
   "id": "30c78c1a",
   "metadata": {},
   "source": [
    "# Printing a rows using where codintions"
   ]
  },
  {
   "cell_type": "code",
   "execution_count": 11,
   "id": "d6a42702",
   "metadata": {},
   "outputs": [
    {
     "name": "stdout",
     "output_type": "stream",
     "text": [
      "('kaththi', 'Vijay', 'Samantha', 'A.R.Murugadoss', 2014)\n",
      "\n",
      "\n",
      "('Thuppaki', 'Vijay', 'Kajal Agarwal', 'A.R.Murugadoss', 2012)\n",
      "\n",
      "\n"
     ]
    }
   ],
   "source": [
    "mycursor.execute(\"SELECT * FROM movie WHERE director='A.R.Murugadoss'\")\n",
    "result1=mycursor.fetchall()\n",
    "for i in result1:\n",
    "    print(i)\n",
    "    print(\"\\n\")"
   ]
  },
  {
   "cell_type": "markdown",
   "id": "6e68cf25",
   "metadata": {},
   "source": [
    "# Retrieving only rows with actors having \"v\" in the name"
   ]
  },
  {
   "cell_type": "code",
   "execution_count": 12,
   "id": "5a956f65",
   "metadata": {},
   "outputs": [
    {
     "name": "stdout",
     "output_type": "stream",
     "text": [
      "('Agent Sai Srinivasa Athreya', 'Naveen Polishetty', 'Shruti Sharma', 'Swaroop RSJ', 2019)\n",
      "\n",
      "\n",
      "('kaththi', 'Vijay', 'Samantha', 'A.R.Murugadoss', 2014)\n",
      "\n",
      "\n",
      "('Thuppaki', 'Vijay', 'Kajal Agarwal', 'A.R.Murugadoss', 2012)\n",
      "\n",
      "\n",
      "('Thittam Irandu', 'Subash Selvam', 'Aishwarya Rajesh', 'Karthick Vignesh', 2021)\n",
      "\n",
      "\n",
      "('Awe', 'Prashanth Varma', 'Kajal', 'Srinivas Avasarala', 2018)\n",
      "\n",
      "\n",
      "('Vikram Vedha', 'Madhavan', 'Shraddha Srinath', 'Pushkar–Gayathri', 2017)\n",
      "\n",
      "\n",
      "('Kuttram 23', 'Arun Vijay', ' Mahima Nambiar', 'Arivazhagan', 2017)\n",
      "\n",
      "\n"
     ]
    }
   ],
   "source": [
    "mycursor.execute(\"SELECT * FROM movie WHERE actor LIKE '%V%'\")\n",
    "result2=mycursor.fetchall()\n",
    "for i in result2:\n",
    "    print(i) \n",
    "    print(\"\\n\")"
   ]
  },
  {
   "cell_type": "markdown",
   "id": "b6677324",
   "metadata": {},
   "source": [
    "# Printing rows in descending order of years"
   ]
  },
  {
   "cell_type": "code",
   "execution_count": 13,
   "id": "6b1696c4",
   "metadata": {},
   "outputs": [
    {
     "name": "stdout",
     "output_type": "stream",
     "text": [
      "('Thittam Irandu', 'Subash Selvam', 'Aishwarya Rajesh', 'Karthick Vignesh', 2021)\n",
      "\n",
      "\n",
      "('Soorarai Potru', 'Suriya', 'Aparna balamurali', 'Sudha Kongara', 2020)\n",
      "\n",
      "\n",
      "('Agent Sai Srinivasa Athreya', 'Naveen Polishetty', 'Shruti Sharma', 'Swaroop RSJ', 2019)\n",
      "\n",
      "\n",
      "('Asuran', 'Dhanush', 'Manju Warrier', 'Vetrimaaran', 2019)\n",
      "\n",
      "\n",
      "('Petta', 'Rajinikanth', 'Simran', 'Karthik Subbaraj', 2019)\n",
      "\n",
      "\n",
      "('A Quiet Place', 'John Krasinski', 'Emily Blunt', 'John Krasinski', 2018)\n",
      "\n",
      "\n",
      "('Awe', 'Prashanth Varma', 'Kajal', 'Srinivas Avasarala', 2018)\n",
      "\n",
      "\n",
      "('Vikram Vedha', 'Madhavan', 'Shraddha Srinath', 'Pushkar–Gayathri', 2017)\n",
      "\n",
      "\n",
      "('Kuttram 23', 'Arun Vijay', ' Mahima Nambiar', 'Arivazhagan', 2017)\n",
      "\n",
      "\n",
      "('kaththi', 'Vijay', 'Samantha', 'A.R.Murugadoss', 2014)\n",
      "\n",
      "\n",
      "('Thuppaki', 'Vijay', 'Kajal Agarwal', 'A.R.Murugadoss', 2012)\n",
      "\n",
      "\n"
     ]
    }
   ],
   "source": [
    "mycursor.execute(\"SELECT * FROM movie ORDER BY year DESC\")\n",
    "result3=mycursor.fetchall()\n",
    "for i in result3:\n",
    "    print(i)\n",
    "    print(\"\\n\")"
   ]
  },
  {
   "cell_type": "code",
   "execution_count": 14,
   "id": "f7a20578",
   "metadata": {},
   "outputs": [
    {
     "name": "stdout",
     "output_type": "stream",
     "text": [
      "('Thittam Irandu', 'Subash Selvam', 'Aishwarya Rajesh', 'Karthick Vignesh', 2021)\n",
      "\n",
      "\n",
      "('Soorarai Potru', 'Suriya', 'Aparna balamurali', 'Sudha Kongara', 2020)\n",
      "\n",
      "\n",
      "('A Quiet Place', 'John Krasinski', 'Emily Blunt', 'John Krasinski', 2018)\n",
      "\n",
      "\n",
      "('Awe', 'Prashanth Varma', 'Kajal', 'Srinivas Avasarala', 2018)\n",
      "\n",
      "\n",
      "('Asuran', 'Dhanush', 'Manju Warrier', 'Vetrimaaran', 2019)\n",
      "\n",
      "\n"
     ]
    }
   ],
   "source": [
    "mycursor.execute(\"SELECT * FROM movie limit 5 offset 3\")\n",
    "result4=mycursor.fetchall()\n",
    "for i in result4:\n",
    "    print(i)\n",
    "    print(\"\\n\")"
   ]
  },
  {
   "cell_type": "code",
   "execution_count": null,
   "id": "c7ea8301",
   "metadata": {},
   "outputs": [],
   "source": []
  },
  {
   "cell_type": "code",
   "execution_count": null,
   "id": "0f1f25e3",
   "metadata": {},
   "outputs": [],
   "source": []
  }
 ],
 "metadata": {
  "kernelspec": {
   "display_name": "Python 3",
   "language": "python",
   "name": "python3"
  },
  "language_info": {
   "codemirror_mode": {
    "name": "ipython",
    "version": 3
   },
   "file_extension": ".py",
   "mimetype": "text/x-python",
   "name": "python",
   "nbconvert_exporter": "python",
   "pygments_lexer": "ipython3",
   "version": "3.8.8"
  }
 },
 "nbformat": 4,
 "nbformat_minor": 5
}
