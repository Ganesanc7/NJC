{
 "cells": [
  {
   "cell_type": "code",
   "execution_count": 16,
   "id": "1554cef2",
   "metadata": {},
   "outputs": [],
   "source": [
    "import mysql.connector "
   ]
  },
  {
   "cell_type": "code",
   "execution_count": 15,
   "id": "e49fcfb8",
   "metadata": {},
   "outputs": [
    {
     "name": "stdout",
     "output_type": "stream",
     "text": [
      "<mysql.connector.connection.MySQLConnection object at 0x000001B8374244C0>\n"
     ]
    }
   ],
   "source": [
    "mydb=mysql.connector.connect(host=\"localhost\",\n",
    "                             user=\"root\",\n",
    "                             password=\"root\",\n",
    "                             database=\"mule\"\n",
    "                            )\n",
    "print(mydb)"
   ]
  },
  {
   "cell_type": "code",
   "execution_count": 18,
   "id": "322c9eb3",
   "metadata": {},
   "outputs": [],
   "source": [
    "mycursor=mydb.cursor()"
   ]
  },
  {
   "cell_type": "code",
   "execution_count": 19,
   "id": "3e9fec73",
   "metadata": {},
   "outputs": [],
   "source": [
    "mycursor.execute(\"create database njc\")"
   ]
  },
  {
   "cell_type": "code",
   "execution_count": 20,
   "id": "775dd99a",
   "metadata": {},
   "outputs": [
    {
     "name": "stdout",
     "output_type": "stream",
     "text": [
      "('bank',)\n",
      "('data',)\n",
      "('information_schema',)\n",
      "('mule',)\n",
      "('mysql',)\n",
      "('njc',)\n",
      "('performance_schema',)\n",
      "('sample',)\n",
      "('sys',)\n"
     ]
    }
   ],
   "source": [
    "mycursor.execute(\"show databases\")\n",
    "for i in mycursor:\n",
    "    print(i)"
   ]
  },
  {
   "cell_type": "code",
   "execution_count": null,
   "id": "63dd7dce",
   "metadata": {},
   "outputs": [],
   "source": []
  }
 ],
 "metadata": {
  "kernelspec": {
   "display_name": "Python 3",
   "language": "python",
   "name": "python3"
  },
  "language_info": {
   "codemirror_mode": {
    "name": "ipython",
    "version": 3
   },
   "file_extension": ".py",
   "mimetype": "text/x-python",
   "name": "python",
   "nbconvert_exporter": "python",
   "pygments_lexer": "ipython3",
   "version": "3.8.8"
  }
 },
 "nbformat": 4,
 "nbformat_minor": 5
}
